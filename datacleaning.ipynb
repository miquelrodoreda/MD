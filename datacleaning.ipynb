{
 "cells": [
  {
   "cell_type": "code",
   "execution_count": 12,
   "metadata": {},
   "outputs": [
    {
     "name": "stdout",
     "output_type": "stream",
     "text": [
      "Defaulting to user installation because normal site-packages is not writeable\n",
      "Requirement already satisfied: pandas in /home/carles/.local/lib/python3.10/site-packages (2.1.3)\n",
      "Requirement already satisfied: numpy<2,>=1.22.4 in /home/carles/.local/lib/python3.10/site-packages (from pandas) (1.26.4)\n",
      "Requirement already satisfied: tzdata>=2022.1 in /home/carles/.local/lib/python3.10/site-packages (from pandas) (2023.3)\n",
      "Requirement already satisfied: pytz>=2020.1 in /usr/lib/python3/dist-packages (from pandas) (2022.1)\n",
      "Requirement already satisfied: python-dateutil>=2.8.2 in /home/carles/.local/lib/python3.10/site-packages (from pandas) (2.9.0.post0)\n",
      "Requirement already satisfied: six>=1.5 in /home/carles/.local/lib/python3.10/site-packages (from python-dateutil>=2.8.2->pandas) (1.16.0)\n",
      "Note: you may need to restart the kernel to use updated packages.\n"
     ]
    }
   ],
   "source": [
    "%pip install pandas\n",
    "import pandas as pd\n",
    "import ast"
   ]
  },
  {
   "cell_type": "code",
   "execution_count": null,
   "metadata": {},
   "outputs": [],
   "source": [
    "df = pd.read_csv('./dataset/rest_dataset.csv')\n"
   ]
  },
  {
   "cell_type": "code",
   "execution_count": null,
   "metadata": {},
   "outputs": [],
   "source": [
    "def extract_last_location(loc_str):\n",
    "    try:\n",
    "        loc_list = ast.literal_eval(loc_str)\n",
    "        return loc_list[-1] if loc_list else None\n",
    "    except (ValueError, SyntaxError):\n",
    "        return None\n",
    "\n",
    "df['location'] = df['original_location'].apply(extract_last_location)\n",
    "\n",
    "df['cuisine'] = df['cuisines'].apply(lambda x: x.split(',')[0] if isinstance(x, str) else None)\n",
    "\n",
    "def extract_certificate_of_excellence(award_str):\n",
    "    if isinstance(award_str, str):\n",
    "        index = award_str.find('Certificate of Excellence')\n",
    "        if index != -1:  # Si encontramos 'Certificate of Excellence'\n",
    "            return award_str[index:index+30]  # 'Certificate of Excellence' tiene 26 caracteres\n",
    "    return None\n",
    "\n",
    "df['last_certificate_excellence'] = df['awards'].apply(lambda x: extract_certificate_of_excellence(x) if isinstance(x, str) else None)\n",
    "\n",
    "df['top_tag'] = df['top_tags'].apply(lambda x: x.split(',')[0] if isinstance(x, str) else None)\n",
    "\n",
    "columns_to_keep = [\n",
    "    'price_level', 'vegan_options', 'gluten_free', \n",
    "    'open_days_per_week', 'avg_rating', 'total_reviews_count', \n",
    "    'food', 'service', 'atmosphere', 'excellent', 'location', \n",
    "    'award', 'cuisine', 'top_tag'\n",
    "]\n",
    "\n",
    "df_filtered = df[columns_to_keep]\n",
    "\n",
    "df_filtered.to_csv('./dataset/cleaned.csv', index=False)\n"
   ]
  },
  {
   "cell_type": "code",
   "execution_count": 18,
   "metadata": {},
   "outputs": [
    {
     "name": "stdout",
     "output_type": "stream",
     "text": [
      "Valores únicos en 'cuisine': 66 valores diferentes\n",
      "['Steakhouse' 'Seafood' 'Mediterranean' 'Cafe' 'Spanish' 'Mexican'\n",
      " 'Fast food' 'Italian' 'European' 'Barbecue' 'Japanese' 'Deli' 'American'\n",
      " 'French' 'Pizza' 'International' 'Sushi' None 'Healthy' 'Bar' 'Chinese'\n",
      " 'Lebanese' 'African' 'German' 'Polish' 'Chilean' 'Brew Pub' 'Latin'\n",
      " 'British' 'Indian' 'Peruvian' 'Asian' 'Catalan' 'Thai' 'Russian'\n",
      " 'Caribbean' 'Greek' 'Wine Bar' 'Brazilian' 'Philippine' 'Grill' 'Fusion'\n",
      " 'Hawaiian' 'Contemporary' 'Argentinian' 'Venezuelan' 'Diner' 'Pub'\n",
      " 'Middle Eastern' 'Arabic' 'Irish' 'Gastropub' 'Dutch' 'Moroccan'\n",
      " 'Hungarian' 'Turkish' 'Swiss' 'Central American' 'Nepalese'\n",
      " 'Southern-Italian' 'South American' 'Colombian' 'Cuban' 'Soups' 'Tibetan'\n",
      " 'Korean']\n",
      "\n",
      "Valores únicos en 'award': 1 valores diferentes\n",
      "[None]\n",
      "\n",
      "Valores únicos en 'top_tag': 3 valores diferentes\n",
      "['Mid-range' 'Cheap Eats' 'Fine Dining']\n"
     ]
    }
   ],
   "source": [
    "cuisine_unique_values = df['cuisine'].unique()\n",
    "award_unique_values = df['award'].unique()\n",
    "top_tag_unique_values = df['top_tag'].unique()\n",
    "\n",
    "print(f\"Valores únicos en 'cuisine': {len(cuisine_unique_values)} valores diferentes\")\n",
    "print(cuisine_unique_values)\n",
    "\n",
    "print(f\"\\nValores únicos en 'award': {len(award_unique_values)} valores diferentes\")\n",
    "print(award_unique_values)\n",
    "\n",
    "print(f\"\\nValores únicos en 'top_tag': {len(top_tag_unique_values)} valores diferentes\")\n",
    "print(top_tag_unique_values)\n"
   ]
  }
 ],
 "metadata": {
  "kernelspec": {
   "display_name": "Python 3",
   "language": "python",
   "name": "python3"
  },
  "language_info": {
   "codemirror_mode": {
    "name": "ipython",
    "version": 3
   },
   "file_extension": ".py",
   "mimetype": "text/x-python",
   "name": "python",
   "nbconvert_exporter": "python",
   "pygments_lexer": "ipython3",
   "version": "3.10.12"
  }
 },
 "nbformat": 4,
 "nbformat_minor": 2
}
