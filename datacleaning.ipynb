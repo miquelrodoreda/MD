{
 "cells": [
  {
   "cell_type": "code",
   "execution_count": 25,
   "metadata": {},
   "outputs": [
    {
     "name": "stdout",
     "output_type": "stream",
     "text": [
      "Requirement already satisfied: pandas in /Library/Frameworks/Python.framework/Versions/3.11/lib/python3.11/site-packages (2.2.3)\n",
      "Requirement already satisfied: numpy>=1.23.2 in /Library/Frameworks/Python.framework/Versions/3.11/lib/python3.11/site-packages (from pandas) (2.2.3)\n",
      "Requirement already satisfied: python-dateutil>=2.8.2 in /Users/miquelrodoreda/Library/Python/3.11/lib/python/site-packages (from pandas) (2.9.0.post0)\n",
      "Requirement already satisfied: pytz>=2020.1 in /Library/Frameworks/Python.framework/Versions/3.11/lib/python3.11/site-packages (from pandas) (2025.1)\n",
      "Requirement already satisfied: tzdata>=2022.7 in /Library/Frameworks/Python.framework/Versions/3.11/lib/python3.11/site-packages (from pandas) (2025.1)\n",
      "Requirement already satisfied: six>=1.5 in /Users/miquelrodoreda/Library/Python/3.11/lib/python/site-packages (from python-dateutil>=2.8.2->pandas) (1.17.0)\n",
      "\n",
      "\u001b[1m[\u001b[0m\u001b[34;49mnotice\u001b[0m\u001b[1;39;49m]\u001b[0m\u001b[39;49m A new release of pip is available: \u001b[0m\u001b[31;49m23.2.1\u001b[0m\u001b[39;49m -> \u001b[0m\u001b[32;49m25.0.1\u001b[0m\n",
      "\u001b[1m[\u001b[0m\u001b[34;49mnotice\u001b[0m\u001b[1;39;49m]\u001b[0m\u001b[39;49m To update, run: \u001b[0m\u001b[32;49mpython3 -m pip install --upgrade pip\u001b[0m\n",
      "Note: you may need to restart the kernel to use updated packages.\n"
     ]
    }
   ],
   "source": [
    "%pip install pandas\n",
    "import pandas as pd\n",
    "import numpy as np\n",
    "import ast"
   ]
  },
  {
   "cell_type": "code",
   "execution_count": 26,
   "metadata": {},
   "outputs": [],
   "source": [
    "df = pd.read_csv('./dataset/tripadvisor-barcelona-restaurants-100reviews-2025-02-13.csv')\n",
    "\n",
    "\n",
    "valid_cuisines = [\n",
    "    'Spanish', 'French', 'Italian', 'Mexican', 'Latin', 'South American',\n",
    "    'Central American', 'Italian', 'American', 'Japanese', 'Chinese', \n",
    "    'Lebanese', 'Middle Eastern', 'Argentinian', 'Japanese Fusion', \n",
    "    'Neapolitan', 'Campania', 'Southern-Italian', 'Chinese', 'Lebanese', \n",
    "    'Polish', 'Chilean', 'British', 'Indian', 'Peruvian', 'Thai', 'Greek', \n",
    "    'Hawaiian', 'Sardinian', 'Russian', 'Caribbean', 'Venezuelan', 'Portuguese', \n",
    "    'Taiwanese', 'Brazilian', 'Azerbaijani', 'Korean', 'Vietnamese', 'Indonesian', \n",
    "    'Moroccan', 'Philippine', 'Israeli', 'Pakistani', 'Persian', 'Turkish', \n",
    "    'Colombian', 'Cuban', 'Georgian', 'Ecuadorean', 'Native American'\n",
    "]\n",
    "\n",
    "def extract_last_location(loc_str):\n",
    "    try:\n",
    "        loc_list = ast.literal_eval(loc_str)\n",
    "        return loc_list[-1] if loc_list else None\n",
    "    except (ValueError, SyntaxError):\n",
    "        return None\n",
    "\n",
    "df['location'] = df['original_location'].apply(extract_last_location)\n",
    "\n",
    "df['cuisine_nation'] = df['cuisines'].apply(lambda x: [cuisine.strip() for cuisine in x.split(',')] if isinstance(x, str) else None)\n",
    "df['cuisine_nation'] = df['cuisine_nation'].apply(lambda x: next((c for c in x if c in valid_cuisines), None) if x else None)\n",
    "\n",
    "def extract_certificate_of_excellence(award_str):\n",
    "    if isinstance(award_str, str):\n",
    "        index = award_str.find('Certificate of Excellence')\n",
    "        if index != -1:  # Si encontramos 'Certificate of Excellence'\n",
    "            return award_str[index:index+30]  # 'Certificate of Excellence' tiene 26 caracteres\n",
    "    return None\n",
    "\n",
    "df['last_certificate_excellence'] = df['awards'].apply(lambda x: extract_certificate_of_excellence(x) if isinstance(x, str) else None)\n",
    "\n",
    "def filter_meals(meals):\n",
    "    if pd.isna(meals):\n",
    "        return np.nan\n",
    "\n",
    "    filtered_meals = sorted([meal for meal in meals.split(', ') if meal in {\"Breakfast\", \"Lunch\", \"Dinner\"}])\n",
    "\n",
    "    return ', '.join(filtered_meals) if filtered_meals else np.nan\n",
    "\n",
    "df['meals'] = df['meals'].apply(filter_meals)\n",
    "\n",
    "columns_to_keep = [\n",
    "    'restaurant_name', 'price_level', 'vegan_options', 'gluten_free', \n",
    "    'open_days_per_week', 'avg_rating', 'total_reviews_count', \n",
    "    'food', 'service', 'atmosphere', 'excellent', 'location', \n",
    "    'last_certificate_excellence', 'cuisine_nation', 'meals'\n",
    "]\n",
    "\n",
    "df_filtered = df[columns_to_keep]\n",
    "\n",
    "df_filtered.to_csv('./dataset/columnrefactor.csv', index=False)\n"
   ]
  },
  {
   "cell_type": "code",
   "execution_count": 27,
   "metadata": {},
   "outputs": [
    {
     "name": "stdout",
     "output_type": "stream",
     "text": [
      "Valores únicos en 'cuisine': 39 valores diferentes\n",
      "['Spanish' None 'Mexican' 'Italian' 'Japanese' 'American' 'French' 'Latin'\n",
      " 'Japanese Fusion' 'Argentinian' 'Chinese' 'Lebanese' 'Polish' 'Chilean'\n",
      " 'British' 'Indian' 'Peruvian' 'Thai' 'Greek' 'Hawaiian' 'Russian'\n",
      " 'Caribbean' 'Portuguese' 'Brazilian' 'Azerbaijani' 'Philippine' 'Korean'\n",
      " 'Vietnamese' 'Middle Eastern' 'Venezuelan' 'Southern-Italian' 'Pakistani'\n",
      " 'Indonesian' 'Moroccan' 'Turkish' 'Colombian' 'Central American'\n",
      " 'South American' 'Cuban']\n",
      "\n",
      "Valores únicos en 'last_certificate_excellence': 11 valores diferentes\n",
      "['Certificate of Excellence 2016' None 'Certificate of Excellence 2020'\n",
      " 'Certificate of Excellence 2019' 'Certificate of Excellence 2018'\n",
      " 'Certificate of Excellence 2015' 'Certificate of Excellence 2017'\n",
      " 'Certificate of Excellence 2013' 'Certificate of Excellence 2014'\n",
      " 'Certificate of Excellence 2012' 'Certificate of Excellence 2011']\n",
      "\n",
      "Valores únicos en 'meals': 8 valores diferentes\n",
      "[nan 'Lunch' 'Dinner, Lunch' 'Breakfast, Dinner, Lunch' 'Breakfast, Lunch'\n",
      " 'Breakfast' 'Dinner' 'Breakfast, Dinner']\n"
     ]
    }
   ],
   "source": [
    "cuisine_unique_values = df['cuisine_nation'].unique()\n",
    "award_unique_values = df['last_certificate_excellence'].unique()\n",
    "meals_unique_values = df['meals'].unique()\n",
    "\n",
    "print(f\"Valores únicos en 'cuisine': {len(cuisine_unique_values)} valores diferentes\")\n",
    "print(cuisine_unique_values)\n",
    "\n",
    "print(f\"\\nValores únicos en 'last_certificate_excellence': {len(award_unique_values)} valores diferentes\")\n",
    "print(award_unique_values)\n",
    "\n",
    "print(f\"\\nValores únicos en 'meals': {len(meals_unique_values)} valores diferentes\")\n",
    "print(meals_unique_values)\n"
   ]
  },
  {
   "cell_type": "code",
   "execution_count": 28,
   "metadata": {},
   "outputs": [
    {
     "name": "stdout",
     "output_type": "stream",
     "text": [
      "                             Null Count  Null Percentage\n",
      "restaurant_name                       0         0.000000\n",
      "price_level                           0         0.000000\n",
      "vegan_options                         0         0.000000\n",
      "gluten_free                           0         0.000000\n",
      "open_days_per_week                  444        11.102776\n",
      "avg_rating                            0         0.000000\n",
      "total_reviews_count                   0         0.000000\n",
      "food                                  4         0.100025\n",
      "service                               3         0.075019\n",
      "atmosphere                         1157        28.932233\n",
      "excellent                             0         0.000000\n",
      "location                              0         0.000000\n",
      "last_certificate_excellence        1119        27.981995\n",
      "cuisine_nation                      630        15.753938\n",
      "meals                              1769        44.236059\n",
      "Total missing data (%):  8.545469700758524\n"
     ]
    }
   ],
   "source": [
    "## Count nulls\n",
    "\n",
    "def null_summary(df):\n",
    "    null_counts = df.isnull().sum() \n",
    "    null_percentage = (null_counts / len(df)) * 100 \n",
    "    null_data = pd.DataFrame({\n",
    "        'Null Count': null_counts,\n",
    "        'Null Percentage': null_percentage\n",
    "    })\n",
    "    return null_data\n",
    "\n",
    "# Missing data for each column individually\n",
    "null_summary_df = null_summary(df_filtered)\n",
    "print(null_summary_df)\n",
    "\n",
    "# Missing data in the whole data matrix\n",
    "total_missing_percentage = df_filtered.isnull().sum().sum() / (df_filtered.size) * 100\n",
    "print(\"Total missing data (%): \", total_missing_percentage)"
   ]
  }
 ],
 "metadata": {
  "kernelspec": {
   "display_name": "Python 3",
   "language": "python",
   "name": "python3"
  },
  "language_info": {
   "codemirror_mode": {
    "name": "ipython",
    "version": 3
   },
   "file_extension": ".py",
   "mimetype": "text/x-python",
   "name": "python",
   "nbconvert_exporter": "python",
   "pygments_lexer": "ipython3",
   "version": "3.11.6"
  }
 },
 "nbformat": 4,
 "nbformat_minor": 2
}
