{
 "cells": [
  {
   "cell_type": "code",
   "execution_count": 2,
   "metadata": {},
   "outputs": [
    {
     "name": "stdout",
     "output_type": "stream",
     "text": [
      "Defaulting to user installation because normal site-packages is not writeable\n",
      "Collecting pd\n",
      "  Downloading pd-0.0.4-py3-none-any.whl (6.5 kB)\n",
      "Installing collected packages: pd\n",
      "Successfully installed pd-0.0.4\n",
      "Note: you may need to restart the kernel to use updated packages.\n"
     ]
    }
   ],
   "source": [
    "%pip install pd\n",
    "import pandas as pd\n"
   ]
  },
  {
   "cell_type": "code",
   "execution_count": 5,
   "metadata": {},
   "outputs": [
    {
     "name": "stdout",
     "output_type": "stream",
     "text": [
      "Archivo guardado como ./only_columns.csv\n"
     ]
    }
   ],
   "source": [
    "# Nombre del archivo de entrada y salida\n",
    "input_file = \"./rest_dataset.csv\"\n",
    "output_file = \"./only_columns.csv\"\n",
    "\n",
    "# Columnas a seleccionar\n",
    "columns_to_keep = [\n",
    "    \"restaurant_name\", \"original_location\", \"cuisines\", \"price_level\", \"vegan_options\", \"gluten_free\",\n",
    "    \"open_days_per_week\", \"avg_rating\", \"total_reviews_count\", \"food\", \"service\", \"atmosphere\",\n",
    "    \"excellent\", \"original_location\", \"awards\", \"top_tags\"\n",
    "]\n",
    "\n",
    "# Cargar el archivo CSV\n",
    "try:\n",
    "    df = pd.read_csv(input_file, usecols=columns_to_keep)\n",
    "    \n",
    "    # Guardar el nuevo CSV con solo las columnas seleccionadas\n",
    "    df.to_csv(output_file, index=False)\n",
    "    print(f\"Archivo guardado como {output_file}\")\n",
    "except ValueError as e:\n",
    "    print(f\"Error: {e}. Verifica que todas las columnas existan en el archivo CSV de entrada.\")\n",
    "except FileNotFoundError:\n",
    "    print(f\"Error: No se encontró el archivo {input_file}.\")\n"
   ]
  }
 ],
 "metadata": {
  "kernelspec": {
   "display_name": "Python 3",
   "language": "python",
   "name": "python3"
  },
  "language_info": {
   "codemirror_mode": {
    "name": "ipython",
    "version": 3
   },
   "file_extension": ".py",
   "mimetype": "text/x-python",
   "name": "python",
   "nbconvert_exporter": "python",
   "pygments_lexer": "ipython3",
   "version": "3.10.12"
  }
 },
 "nbformat": 4,
 "nbformat_minor": 2
}
